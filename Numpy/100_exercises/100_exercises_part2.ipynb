{
 "cells": [
  {
   "cell_type": "code",
   "execution_count": 28,
   "source": [
    "import numpy as np\r\n",
    "import scipy\r\n",
    "import scipy.spatial \r\n",
    "import matplotlib.pyplot as plt\r\n"
   ],
   "outputs": [],
   "metadata": {}
  },
  {
   "cell_type": "code",
   "execution_count": 2,
   "source": [
    "#51. create a structured array representing a position (x,y) and a color (r,g,b)\r\n",
    "Z = np.zeros(10, [ ('position', [ ('x', float, 1),\r\n",
    "                                  ('y', float, 1)]),\r\n",
    "                   ('color',    [ ('r', float, 1),\r\n",
    "                                  ('g', float, 1),\r\n",
    "                                  ('b', float, 1)])])\r\n",
    "print(Z)"
   ],
   "outputs": [
    {
     "output_type": "stream",
     "name": "stdout",
     "text": [
      "[((0., 0.), (0., 0., 0.)) ((0., 0.), (0., 0., 0.))\n",
      " ((0., 0.), (0., 0., 0.)) ((0., 0.), (0., 0., 0.))\n",
      " ((0., 0.), (0., 0., 0.)) ((0., 0.), (0., 0., 0.))\n",
      " ((0., 0.), (0., 0., 0.)) ((0., 0.), (0., 0., 0.))\n",
      " ((0., 0.), (0., 0., 0.)) ((0., 0.), (0., 0., 0.))]\n"
     ]
    },
    {
     "output_type": "stream",
     "name": "stderr",
     "text": [
      "<ipython-input-2-7e861bed87f5>:2: FutureWarning: Passing (type, 1) or '1type' as a synonym of type is deprecated; in a future version of numpy, it will be understood as (type, (1,)) / '(1,)type'.\n",
      "  Z = np.zeros(10, [ ('position', [ ('x', float, 1),\n"
     ]
    }
   ],
   "metadata": {}
  },
  {
   "cell_type": "code",
   "execution_count": 11,
   "source": [
    "#52 Consider a random vector with shape (100,2) representing coordinates, find point by point distances \r\n",
    "Z = np.random.random((10,2))\r\n",
    "print(Z)\r\n",
    "X, Y = np.atleast_2d(Z[:,0],Z[:,1])\r\n",
    "print(X)\r\n",
    "print(Y)\r\n",
    "D = np.sqrt((X-X.T)**2+(Y-Y.T)**2)\r\n",
    "print(\"D = \", D)\r\n",
    " \r\n",
    "Z = np.random.random((10,2))\r\n",
    "D = scipy.spatial.distance.cdist(Z,Z)\r\n",
    "print(\"D = \", D)\r\n",
    "\r\n"
   ],
   "outputs": [
    {
     "output_type": "stream",
     "name": "stdout",
     "text": [
      "[[0.42204167 0.67302728]\n",
      " [0.8793191  0.40488789]\n",
      " [0.47762624 0.86827879]\n",
      " [0.98427905 0.30441441]\n",
      " [0.09647271 0.13176663]\n",
      " [0.65490289 0.66124532]\n",
      " [0.83771718 0.51511413]\n",
      " [0.52123355 0.49733163]\n",
      " [0.72943625 0.29489095]\n",
      " [0.92037237 0.97735746]]\n",
      "[[0.42204167 0.8793191  0.47762624 0.98427905 0.09647271 0.65490289\n",
      "  0.83771718 0.52123355 0.72943625 0.92037237]]\n",
      "[[0.67302728 0.40488789 0.86827879 0.30441441 0.13176663 0.66124532\n",
      "  0.51511413 0.49733163 0.29489095 0.97735746]]\n",
      "D =  [[0.         0.53009564 0.20300936 0.67229928 0.63163141 0.23315909\n",
      "  0.4446602  0.20176221 0.48731767 0.58390954]\n",
      " [0.53009564 0.         0.61326037 0.14529801 0.82912224 0.34070775\n",
      "  0.11781572 0.36982578 0.18591449 0.57393971]\n",
      " [0.20300936 0.61326037 0.         0.7580502  0.82929379 0.27256168\n",
      "  0.50437165 0.37350153 0.62624428 0.45598496]\n",
      " [0.67229928 0.14529801 0.7580502  0.         0.90443759 0.48560988\n",
      "  0.25666078 0.50162555 0.25502069 0.67597072]\n",
      " [0.63163141 0.82912224 0.82929379 0.90443759 0.         0.76954009\n",
      "  0.83450504 0.56041016 0.65364546 1.18060768]\n",
      " [0.23315909 0.34070775 0.27256168 0.48560988 0.76954009 0.\n",
      "  0.23404143 0.21150694 0.37385926 0.41279648]\n",
      " [0.4446602  0.11781572 0.50437165 0.25666078 0.83450504 0.23404143\n",
      "  0.         0.31698281 0.24540377 0.46957511]\n",
      " [0.20176221 0.36982578 0.37350153 0.50162555 0.56041016 0.21150694\n",
      "  0.31698281 0.         0.2903973  0.62428887]\n",
      " [0.48731767 0.18591449 0.62624428 0.25502069 0.65364546 0.37385926\n",
      "  0.24540377 0.2903973  0.         0.70867281]\n",
      " [0.58390954 0.57393971 0.45598496 0.67597072 1.18060768 0.41279648\n",
      "  0.46957511 0.62428887 0.70867281 0.        ]]\n",
      "D =  [[0.         0.2810832  0.23456091 0.20976192 0.52646597 0.23763139\n",
      "  0.74049908 0.18413746 0.81795053 0.97133604]\n",
      " [0.2810832  0.         0.10488273 0.24797194 0.80738177 0.51836149\n",
      "  1.02059857 0.10533229 0.9669385  1.10748406]\n",
      " [0.23456091 0.10488273 0.         0.1445977  0.75246251 0.46709631\n",
      "  0.96859056 0.12351985 0.99788155 1.14432399]\n",
      " [0.20976192 0.24797194 0.1445977  0.         0.66658464 0.3982802\n",
      "  0.88296565 0.22394061 1.02629833 1.17872677]\n",
      " [0.52646597 0.80738177 0.75246251 0.66658464 0.         0.28904686\n",
      "  0.21682332 0.70718592 0.75020485 0.8935013 ]\n",
      " [0.23763139 0.51836149 0.46709631 0.3982802  0.28904686 0.\n",
      "  0.50297034 0.41839139 0.73596277 0.89234009]\n",
      " [0.74049908 1.02059857 0.96859056 0.88296565 0.21682332 0.50297034\n",
      "  0.         0.91889309 0.78659221 0.90885311]\n",
      " [0.18413746 0.10533229 0.12351985 0.22394061 0.70718592 0.41839139\n",
      "  0.91889309 0.         0.87964318 1.02422552]\n",
      " [0.81795053 0.9669385  0.99788155 1.02629833 0.75020485 0.73596277\n",
      "  0.78659221 0.87964318 0.         0.15665235]\n",
      " [0.97133604 1.10748406 1.14432399 1.17872677 0.8935013  0.89234009\n",
      "  0.90885311 1.02422552 0.15665235 0.        ]]\n"
     ]
    }
   ],
   "metadata": {}
  },
  {
   "cell_type": "code",
   "execution_count": 14,
   "source": [
    "#53. Convert a float (32 bits) array into an integer (32 bits) in place?\r\n",
    "Z = np.arange(10, dtype = np.float32)\r\n",
    "Z = Z.astype(np.int32, copy = False)\r\n",
    "print(Z)"
   ],
   "outputs": [
    {
     "output_type": "stream",
     "name": "stdout",
     "text": [
      "[0 1 2 3 4 5 6 7 8 9]\n"
     ]
    }
   ],
   "metadata": {}
  },
  {
   "cell_type": "code",
   "execution_count": 16,
   "source": [
    "#54 how to read file \r\n",
    "# Fake file \r\n",
    "# s = StringIO(\"\"\"1, 2, 3, 4, 5\\n\r\n",
    "#                 6,  ,  , 7, 8\\n\r\n",
    "#                  ,  , 9,10,11\\n\"\"\")\r\n",
    "\r\n",
    "from io import StringIO\r\n",
    "\r\n",
    "s = StringIO(\"\"\"1, 2, 3, 4, 5\\n\r\n",
    "                6,  ,  , 7, 8\\n\r\n",
    "                 ,  , 9,10,11\\n\"\"\")\r\n",
    "Z = np.genfromtxt(s, delimiter=\",\", dtype = np.int)\r\n",
    "print(Z)"
   ],
   "outputs": [
    {
     "output_type": "stream",
     "name": "stdout",
     "text": [
      "[[ 1  2  3  4  5]\n",
      " [ 6 -1 -1  7  8]\n",
      " [-1 -1  9 10 11]]\n"
     ]
    }
   ],
   "metadata": {}
  },
  {
   "cell_type": "code",
   "execution_count": 22,
   "source": [
    "# 55. What is the equivalent of enumerate for numpy arrays?\r\n",
    "Z = np.arange(9).reshape(3,3)\r\n",
    "print(Z)\r\n",
    "print(\"---\")\r\n",
    "for index, value in np.ndenumerate(Z):\r\n",
    "    print(index, value)\r\n",
    "print(\"----\")\r\n",
    "for index in np.ndindex(Z.shape):\r\n",
    "    print(index, Z[index])"
   ],
   "outputs": [
    {
     "output_type": "stream",
     "name": "stdout",
     "text": [
      "[[0 1 2]\n",
      " [3 4 5]\n",
      " [6 7 8]]\n",
      "---\n",
      "(0, 0) 0\n",
      "(0, 1) 1\n",
      "(0, 2) 2\n",
      "(1, 0) 3\n",
      "(1, 1) 4\n",
      "(1, 2) 5\n",
      "(2, 0) 6\n",
      "(2, 1) 7\n",
      "(2, 2) 8\n",
      "----\n",
      "(0, 0) 0\n",
      "(0, 1) 1\n",
      "(0, 2) 2\n",
      "(1, 0) 3\n",
      "(1, 1) 4\n",
      "(1, 2) 5\n",
      "(2, 0) 6\n",
      "(2, 1) 7\n",
      "(2, 2) 8\n"
     ]
    }
   ],
   "metadata": {}
  },
  {
   "cell_type": "code",
   "execution_count": 31,
   "source": [
    "# 56. Generate a genetic 2D Gaussian-like array \r\n",
    "X, Y = np.meshgrid(np.linspace(-1,1,10), np.linspace(-1,1,10))\r\n",
    "print(X)\r\n",
    "print(\"---\")\r\n",
    "print(Y)\r\n",
    "Z = np.sqrt(X*X + Y*Y)\r\n",
    "sigma, mu = 1.0, 0.0 \r\n",
    "G = np.exp(-((Z-mu)**2/(2.0*sigma**2)))\r\n",
    "# print(G)\r\n",
    "cs = plt.contour(X,Y, Z, 10) #hiển thị 10 đường đồng mức\r\n",
    "plt.clabel(cs) #hiển thị đường đồng mức \r\n",
    "plt.show()\r\n",
    "'''\r\n",
    "\r\n",
    "#tạo 2 dãy bao gồm các tọa độ x và y từ -1 đến 1 và tổng cộng 10 tọa độ \r\n",
    "x = np.linspace(-1,1,10)\r\n",
    "y = np.linspace(-1,1,10)\r\n",
    "#tạo meshgrid X, Y là ma trận có kích thước 10x10. \r\n",
    "#công thức chung để xác định kích thước là (số tọa độ y)x(số tọa độ x)\r\n",
    "X, Y = np.meshgrid(x,y)\r\n",
    "print(X)\r\n",
    "'''\r\n",
    "\r\n",
    "\"\"\"\r\n",
    "note: linspace() truyền vào số lượng mẫu thay vì kích thước step như np.arange()\r\n",
    "\"\"\""
   ],
   "outputs": [
    {
     "output_type": "stream",
     "name": "stdout",
     "text": [
      "[[-1.         -0.77777778 -0.55555556 -0.33333333 -0.11111111  0.11111111\n",
      "   0.33333333  0.55555556  0.77777778  1.        ]\n",
      " [-1.         -0.77777778 -0.55555556 -0.33333333 -0.11111111  0.11111111\n",
      "   0.33333333  0.55555556  0.77777778  1.        ]\n",
      " [-1.         -0.77777778 -0.55555556 -0.33333333 -0.11111111  0.11111111\n",
      "   0.33333333  0.55555556  0.77777778  1.        ]\n",
      " [-1.         -0.77777778 -0.55555556 -0.33333333 -0.11111111  0.11111111\n",
      "   0.33333333  0.55555556  0.77777778  1.        ]\n",
      " [-1.         -0.77777778 -0.55555556 -0.33333333 -0.11111111  0.11111111\n",
      "   0.33333333  0.55555556  0.77777778  1.        ]\n",
      " [-1.         -0.77777778 -0.55555556 -0.33333333 -0.11111111  0.11111111\n",
      "   0.33333333  0.55555556  0.77777778  1.        ]\n",
      " [-1.         -0.77777778 -0.55555556 -0.33333333 -0.11111111  0.11111111\n",
      "   0.33333333  0.55555556  0.77777778  1.        ]\n",
      " [-1.         -0.77777778 -0.55555556 -0.33333333 -0.11111111  0.11111111\n",
      "   0.33333333  0.55555556  0.77777778  1.        ]\n",
      " [-1.         -0.77777778 -0.55555556 -0.33333333 -0.11111111  0.11111111\n",
      "   0.33333333  0.55555556  0.77777778  1.        ]\n",
      " [-1.         -0.77777778 -0.55555556 -0.33333333 -0.11111111  0.11111111\n",
      "   0.33333333  0.55555556  0.77777778  1.        ]]\n",
      "---\n",
      "[[-1.         -1.         -1.         -1.         -1.         -1.\n",
      "  -1.         -1.         -1.         -1.        ]\n",
      " [-0.77777778 -0.77777778 -0.77777778 -0.77777778 -0.77777778 -0.77777778\n",
      "  -0.77777778 -0.77777778 -0.77777778 -0.77777778]\n",
      " [-0.55555556 -0.55555556 -0.55555556 -0.55555556 -0.55555556 -0.55555556\n",
      "  -0.55555556 -0.55555556 -0.55555556 -0.55555556]\n",
      " [-0.33333333 -0.33333333 -0.33333333 -0.33333333 -0.33333333 -0.33333333\n",
      "  -0.33333333 -0.33333333 -0.33333333 -0.33333333]\n",
      " [-0.11111111 -0.11111111 -0.11111111 -0.11111111 -0.11111111 -0.11111111\n",
      "  -0.11111111 -0.11111111 -0.11111111 -0.11111111]\n",
      " [ 0.11111111  0.11111111  0.11111111  0.11111111  0.11111111  0.11111111\n",
      "   0.11111111  0.11111111  0.11111111  0.11111111]\n",
      " [ 0.33333333  0.33333333  0.33333333  0.33333333  0.33333333  0.33333333\n",
      "   0.33333333  0.33333333  0.33333333  0.33333333]\n",
      " [ 0.55555556  0.55555556  0.55555556  0.55555556  0.55555556  0.55555556\n",
      "   0.55555556  0.55555556  0.55555556  0.55555556]\n",
      " [ 0.77777778  0.77777778  0.77777778  0.77777778  0.77777778  0.77777778\n",
      "   0.77777778  0.77777778  0.77777778  0.77777778]\n",
      " [ 1.          1.          1.          1.          1.          1.\n",
      "   1.          1.          1.          1.        ]]\n"
     ]
    },
    {
     "output_type": "display_data",
     "data": {
      "text/plain": [
       "<Figure size 432x288 with 1 Axes>"
      ],
      "image/png": "[encoded data removed]"
     },
     "metadata": {
      "needs_background": "light"
     }
    },
    {
     "output_type": "execute_result",
     "data": {
      "text/plain": [
       "'\\n#tạo 2 dãy bao gồm các tọa độ x và y từ -1 đến 1 và tổng cộng 10 tọa độ \\nx = np.linspace(-1,1,10)\\ny = np.linspace(-1,1,10)\\n#tạo meshgrid X, Y là ma trận có kích thước 10x10. \\n#công thức chung để xác định kích thước là (số tọa độ y)x(số tọa độ x)\\nX, Y = np.meshgrid(x,y)\\nprint(X)\\n'"
      ]
     },
     "metadata": {},
     "execution_count": 31
    }
   ],
   "metadata": {}
  },
  {
   "cell_type": "code",
   "execution_count": 35,
   "source": [
    "#57 how to randomly place p elements in a 2D array?\n",
    "n = 10 \n",
    "p = 7 # số lượng phần tử thay thế\n",
    "Z = np.zeros((n,n))\n",
    "np.put(Z, np.random.choice(range(n*n), p, replace = False),5)\n",
    "print(Z)"
   ],
   "outputs": [
    {
     "output_type": "stream",
     "name": "stdout",
     "text": [
      "[[0. 0. 0. 0. 0. 0. 0. 0. 0. 0.]\n",
      " [0. 0. 0. 0. 0. 0. 0. 0. 0. 0.]\n",
      " [0. 0. 0. 0. 0. 0. 0. 0. 0. 0.]\n",
      " [0. 0. 5. 0. 0. 0. 5. 0. 5. 0.]\n",
      " [0. 0. 5. 0. 0. 0. 0. 0. 0. 0.]\n",
      " [0. 0. 0. 0. 0. 0. 0. 0. 0. 5.]\n",
      " [0. 0. 0. 0. 0. 0. 0. 0. 0. 0.]\n",
      " [5. 0. 0. 0. 0. 0. 0. 0. 0. 0.]\n",
      " [0. 0. 0. 0. 0. 0. 5. 0. 0. 0.]\n",
      " [0. 0. 0. 0. 0. 0. 0. 0. 0. 0.]]\n"
     ]
    }
   ],
   "metadata": {}
  },
  {
   "cell_type": "markdown",
   "source": [],
   "metadata": {}
  },
  {
   "cell_type": "code",
   "execution_count": 41,
   "source": [
    "#58 subtract the mean of each row of a matrix \r\n",
    "X = np.random.rand(5,10)\r\n",
    "print(X)\r\n",
    "Y = X - X.mean(axis =1 , keepdims = True)\r\n",
    "print(Y)"
   ],
   "outputs": [
    {
     "output_type": "stream",
     "name": "stdout",
     "text": [
      "[[0.31365119 0.37709262 0.19802382 0.67543751 0.71404392 0.52314126\n",
      "  0.4454249  0.37261259 0.08573131 0.95911337]\n",
      " [0.71547882 0.37854399 0.52946769 0.50373517 0.50515757 0.99751046\n",
      "  0.46926724 0.14040269 0.56262996 0.6144596 ]\n",
      " [0.78281905 0.32019281 0.75601457 0.82487693 0.72954947 0.20428258\n",
      "  0.74397836 0.79170786 0.20686134 0.83594107]\n",
      " [0.56739998 0.93690559 0.34344396 0.02630129 0.23680421 0.18529604\n",
      "  0.68980367 0.454455   0.20127126 0.94203103]\n",
      " [0.33736472 0.84701039 0.36939478 0.60259388 0.72300604 0.62945659\n",
      "  0.84036823 0.61660571 0.49085922 0.74488587]]\n",
      "[[-0.15277606 -0.08933463 -0.26840343  0.20901026  0.24761667  0.05671401\n",
      "  -0.02100235 -0.09381466 -0.38069594  0.49268612]\n",
      " [ 0.1738135  -0.16312133 -0.01219763 -0.03793014 -0.03650775  0.45584514\n",
      "  -0.07239808 -0.40126263  0.02096464  0.07279428]\n",
      " [ 0.16319665 -0.29942959  0.13639216  0.20525453  0.10992707 -0.41533982\n",
      "   0.12435596  0.17208546 -0.41276107  0.21631867]\n",
      " [ 0.10902878  0.47853439 -0.11492724 -0.43206992 -0.221567   -0.27307517\n",
      "   0.23143247 -0.0039162  -0.25709994  0.48365983]\n",
      " [-0.28278983  0.22685585 -0.25075977 -0.01756066  0.1028515   0.00930205\n",
      "   0.22021369 -0.00354883 -0.12929532  0.12473133]]\n"
     ]
    }
   ],
   "metadata": {}
  },
  {
   "cell_type": "code",
   "execution_count": 47,
   "source": [
    "#59 how to sort an array by the nth column ?\r\n",
    "Z = np.random.randint(0,10,(3,3))\r\n",
    "print(Z)\r\n",
    "\r\n",
    "print(Z[Z[:,1].argsort()])"
   ],
   "outputs": [
    {
     "output_type": "stream",
     "name": "stdout",
     "text": [
      "[[4 4 9]\n",
      " [5 8 4]\n",
      " [4 5 3]]\n",
      "[[4 4 9]\n",
      " [4 5 3]\n",
      " [5 8 4]]\n"
     ]
    }
   ],
   "metadata": {}
  },
  {
   "cell_type": "code",
   "execution_count": 54,
   "source": [
    "#60  How to tell if a given 2D array has null columns?\r\n",
    "Z = np.random.randint(0,3,(3,10))\r\n",
    "print(Z)\r\n",
    "print((~Z))\r\n",
    "print((~Z.any(axis =0)).any())\r\n",
    "# print((Z.any(axis =0)).any())"
   ],
   "outputs": [
    {
     "output_type": "stream",
     "name": "stdout",
     "text": [
      "[[1 0 2 2 1 0 2 0 0 2]\n",
      " [2 2 2 1 1 1 1 1 1 2]\n",
      " [1 0 2 0 1 2 0 1 1 2]]\n",
      "[[-2 -1 -3 -3 -2 -1 -3 -1 -1 -3]\n",
      " [-3 -3 -3 -2 -2 -2 -2 -2 -2 -3]\n",
      " [-2 -1 -3 -1 -2 -3 -1 -2 -2 -3]]\n",
      "False\n"
     ]
    }
   ],
   "metadata": {}
  },
  {
   "cell_type": "code",
   "execution_count": 56,
   "source": [
    "#61 find the nearest value from a given value in an array?\r\n",
    "Z = np.random.uniform(0,1,10)\r\n",
    "print(\"Z = \", Z)\r\n",
    "z = 0.5 \r\n",
    "m = Z.flat[np.abs(Z-z).argmin()]\r\n",
    "print(m)"
   ],
   "outputs": [
    {
     "output_type": "stream",
     "name": "stdout",
     "text": [
      "Z =  [0.67081638 0.47850362 0.90665916 0.64605794 0.69987386 0.75739989\n",
      " 0.74893882 0.01752349 0.0748071  0.41801889]\n",
      "0.4785036247547514\n"
     ]
    }
   ],
   "metadata": {}
  },
  {
   "cell_type": "code",
   "execution_count": 61,
   "source": [
    "#62  Considering two arrays with shape (1,3) and (3,1), how to compute their sum using an iterator?\r\n",
    "A = np.arange(3).reshape(3,1)\r\n",
    "print(A)\r\n",
    "B = np.arange(3).reshape(1,3)\r\n",
    "print(B)\r\n",
    "it = np.nditer([A,B, None])\r\n",
    "print(it)\r\n",
    "for x, y, z in it: z[...] = x + y\r\n",
    "print(it.operands[2])"
   ],
   "outputs": [
    {
     "output_type": "stream",
     "name": "stdout",
     "text": [
      "[[0]\n",
      " [1]\n",
      " [2]]\n",
      "[[0 1 2]]\n",
      "<numpy.nditer object at 0x000002330E905F30>\n",
      "[[0 1 2]\n",
      " [1 2 3]\n",
      " [2 3 4]]\n"
     ]
    }
   ],
   "metadata": {}
  },
  {
   "cell_type": "code",
   "execution_count": 64,
   "source": [
    "#63. Create an array class that has a name attribute \r\n",
    "class NamedArray(np.ndarray):\r\n",
    "    \"\"\"\r\n",
    "    The first is the use of the ndarray.__new__ method for the main work of\r\n",
    "    object initialization, rather then the more usual __init__ method\r\n",
    "    \"\"\"\r\n",
    "    def __new__(cls, array, name = 'no name'):\r\n",
    "        obj = np.asarray(array).view(cls)\r\n",
    "        obj.name = name\r\n",
    "        return obj\r\n",
    "\r\n",
    "    \"\"\"\r\n",
    "    The second is the use of the __array_finalize__ method to allow subclasses to \r\n",
    "    clean up after the creation of views and new instances from templates.\r\n",
    "    \"\"\"\r\n",
    "    def __array_finalize__(self, obj):\r\n",
    "        if obj is None: return \r\n",
    "        self.info = getattr(obj, \"name\", 'no name')\r\n",
    "Z = NamedArray(np.arange(10),\"range_10\")\r\n",
    "print(Z.name)\r\n",
    "print(Z)"
   ],
   "outputs": [
    {
     "output_type": "stream",
     "name": "stdout",
     "text": [
      "range_10\n",
      "[0 1 2 3 4 5 6 7 8 9]\n"
     ]
    }
   ],
   "metadata": {}
  },
  {
   "cell_type": "code",
   "execution_count": 76,
   "source": [
    "#64 . Consider a given vector, how to add 1 to each element indexed by a second vector (be careful with repeated indices)? \r\n",
    "\r\n",
    "Z = np.ones(10)\r\n",
    "print(Z)\r\n",
    "print(len(Z))\r\n",
    "I = np.random.randint(0, len(Z), 20)\r\n",
    "print(I)\r\n",
    "Z += np.bincount(I, minlength=len(Z)) #bincount: đếm số lần xuất hiệm của mỗi giá trị trong mảng các số nguyên ko âm \r\n",
    "print(Z)\r\n"
   ],
   "outputs": [
    {
     "output_type": "stream",
     "name": "stdout",
     "text": [
      "[1. 1. 1. 1. 1. 1. 1. 1. 1. 1.]\n",
      "10\n",
      "[2 9 0 3 3 7 0 4 2 1 2 7 2 1 2 7 5 8 3 0]\n",
      "[4. 3. 6. 4. 2. 2. 1. 4. 2. 2.]\n"
     ]
    }
   ],
   "metadata": {}
  },
  {
   "cell_type": "code",
   "execution_count": 74,
   "source": [
    "#65 How to accumulate elements of a vector (X) to an array (F) based on an index list (I)\r\n",
    "X = [1,2,3,4,5,6]\r\n",
    "I = [1,3,9,3,4,1]\r\n",
    "F = np.bincount(I,X) \r\n",
    "print(F)"
   ],
   "outputs": [
    {
     "output_type": "stream",
     "name": "stdout",
     "text": [
      "[0. 7. 0. 6. 5. 0. 0. 0. 0. 3.]\n"
     ]
    }
   ],
   "metadata": {}
  },
  {
   "cell_type": "code",
   "execution_count": 78,
   "source": [
    "#66  Considering a (w,h,3) image of (dtype=ubyte), compute the number of unique colors \r\n",
    "\r\n",
    "w,h = 16,16\r\n",
    "I = np.random.randint(0,2,(h,w,3)).astype(np.ubyte)\r\n",
    "#Note that we should compute 256*256 first. \r\n",
    "#Otherwise numpy will only promote F.dtype to 'uint16' and overfolw will occur\r\n",
    "F = I[...,0]*(256*256) + I[...,1]*256 +I[...,2]\r\n",
    "n = len(np.unique(F))\r\n",
    "print(n)\r\n",
    "\r\n",
    "\r\n"
   ],
   "outputs": [
    {
     "output_type": "stream",
     "name": "stdout",
     "text": [
      "8\n"
     ]
    }
   ],
   "metadata": {}
  },
  {
   "cell_type": "code",
   "execution_count": 80,
   "source": [
    "# 67. Considering a four dimensions array, how to get sum over the last two axis at once?\r\n",
    "A = np.random.randint(0,10,(3,4,3,4))\r\n",
    "#solution 1:  passing a tuple of axes \r\n",
    "sum = A.sum(axis=(-2,-1))\r\n",
    "print(sum)\r\n",
    "# solution 2: flattening the last two dimensions into one\r\n",
    "# (useful for functions that don't accept tuples for axis argument)\r\n",
    "sum = A.reshape(A.shape[:-2] + (-1,)).sum(axis=-1)\r\n",
    "print(sum)"
   ],
   "outputs": [
    {
     "output_type": "stream",
     "name": "stdout",
     "text": [
      "[[57 54 69 54]\n",
      " [58 77 49 63]\n",
      " [43 61 46 62]]\n",
      "[[57 54 69 54]\n",
      " [58 77 49 63]\n",
      " [43 61 46 62]]\n"
     ]
    }
   ],
   "metadata": {}
  },
  {
   "cell_type": "code",
   "execution_count": 81,
   "source": [
    "#68 Considering a one-dimensional vector D, \r\n",
    "# how to compute means of subsets of D using a vector S of same size describing subset indices?\r\n",
    "\r\n",
    "D = np.random.uniform(0,1,100)\r\n",
    "S = np.random.randint(0,10,100)\r\n",
    "D_sums = np.bincount(S, weights=D)\r\n",
    "D_counts = np.bincount(S)\r\n",
    "D_means = D_sums / D_counts\r\n",
    "print(D_means)\r\n",
    "\r\n",
    "# Pandas solution as a reference due to more intuitive code\r\n",
    "import pandas as pd\r\n",
    "print(pd.Series(D).groupby(S).mean())"
   ],
   "outputs": [
    {
     "output_type": "stream",
     "name": "stdout",
     "text": [
      "[0.44769237 0.39682063 0.32516519 0.4857271  0.53472491 0.33500803\n",
      " 0.43020489 0.63071137 0.41175054 0.50969747]\n",
      "0    0.447692\n",
      "1    0.396821\n",
      "2    0.325165\n",
      "3    0.485727\n",
      "4    0.534725\n",
      "5    0.335008\n",
      "6    0.430205\n",
      "7    0.630711\n",
      "8    0.411751\n",
      "9    0.509697\n",
      "dtype: float64\n"
     ]
    }
   ],
   "metadata": {}
  },
  {
   "cell_type": "code",
   "execution_count": 83,
   "source": [
    "#69. How to get the diagonal of a dot product? \r\n",
    "A = np.random.uniform(0,1,(5,5))\r\n",
    "B = np.random.uniform(0,1,(5,5))\r\n",
    "\r\n",
    "# Slow  \r\n",
    "np.diag(np.dot(A, B))\r\n",
    "\r\n",
    "# Fast \r\n",
    "np.sum(A * B.T, axis=1)\r\n",
    "\r\n",
    "# Faster: Einstein summation \r\n",
    "np.einsum(\"ij,ji->i\", A, B)"
   ],
   "outputs": [
    {
     "output_type": "execute_result",
     "data": {
      "text/plain": [
       "array([1.66610743, 1.31846892, 2.18206784, 0.60671632, 1.4274871 ])"
      ]
     },
     "metadata": {},
     "execution_count": 83
    }
   ],
   "metadata": {}
  },
  {
   "cell_type": "code",
   "execution_count": 85,
   "source": [
    "# 70. Consider the vector [1, 2, 3, 4, 5], \r\n",
    "# how to build a new vector with 3 consecutive zeros interleaved between each value?( 3 số 0 liên tiếp xen kẽ)\r\n",
    "Z = np.array([1,2,3,4,5])\r\n",
    "nz = 3\r\n",
    "Z0 = np.zeros(len(Z) + (len(Z)-1)*(nz))\r\n",
    "Z0[::nz+1] = Z\r\n",
    "print(Z0)"
   ],
   "outputs": [
    {
     "output_type": "stream",
     "name": "stdout",
     "text": [
      "[1. 0. 0. 0. 2. 0. 0. 0. 3. 0. 0. 0. 4. 0. 0. 0. 5.]\n"
     ]
    }
   ],
   "metadata": {}
  },
  {
   "cell_type": "code",
   "execution_count": 86,
   "source": [
    "# 71. Consider an array of dimension (5,5,3), how to mulitply it by an array with dimensions (5,5)?\r\n",
    "A = np.ones((5,5,3))\r\n",
    "B = 2*np.ones((5,5))\r\n",
    "print(A * B[:,:,None])\r\n"
   ],
   "outputs": [
    {
     "output_type": "stream",
     "name": "stdout",
     "text": [
      "[[[2. 2. 2.]\n",
      "  [2. 2. 2.]\n",
      "  [2. 2. 2.]\n",
      "  [2. 2. 2.]\n",
      "  [2. 2. 2.]]\n",
      "\n",
      " [[2. 2. 2.]\n",
      "  [2. 2. 2.]\n",
      "  [2. 2. 2.]\n",
      "  [2. 2. 2.]\n",
      "  [2. 2. 2.]]\n",
      "\n",
      " [[2. 2. 2.]\n",
      "  [2. 2. 2.]\n",
      "  [2. 2. 2.]\n",
      "  [2. 2. 2.]\n",
      "  [2. 2. 2.]]\n",
      "\n",
      " [[2. 2. 2.]\n",
      "  [2. 2. 2.]\n",
      "  [2. 2. 2.]\n",
      "  [2. 2. 2.]\n",
      "  [2. 2. 2.]]\n",
      "\n",
      " [[2. 2. 2.]\n",
      "  [2. 2. 2.]\n",
      "  [2. 2. 2.]\n",
      "  [2. 2. 2.]\n",
      "  [2. 2. 2.]]]\n"
     ]
    }
   ],
   "metadata": {}
  },
  {
   "cell_type": "code",
   "execution_count": 90,
   "source": [
    "#72how to swap to rows of an arr?\r\n",
    "A = np.arange(25).reshape(5,5)\r\n",
    "print(A)\r\n",
    "print(\"----\")\r\n",
    "A[[0,1]] = A[[1,0]]\r\n",
    "print(A)"
   ],
   "outputs": [
    {
     "output_type": "stream",
     "name": "stdout",
     "text": [
      "[[ 0  1  2  3  4]\n",
      " [ 5  6  7  8  9]\n",
      " [10 11 12 13 14]\n",
      " [15 16 17 18 19]\n",
      " [20 21 22 23 24]]\n",
      "----\n",
      "[[ 5  6  7  8  9]\n",
      " [ 0  1  2  3  4]\n",
      " [10 11 12 13 14]\n",
      " [15 16 17 18 19]\n",
      " [20 21 22 23 24]]\n"
     ]
    }
   ],
   "metadata": {}
  },
  {
   "cell_type": "code",
   "execution_count": 91,
   "source": [
    "# 73. Consider a set of 10 triplets describing 10 triangles (with shared vertices), \r\n",
    "# find the set of unique line segments composing all the triangles\r\n",
    "faces = np.random.randint(0,100,(10,3))\r\n",
    "F = np.roll(faces.repeat(2,axis=1),-1,axis=1)\r\n",
    "F = F.reshape(len(F)*3,2)\r\n",
    "F = np.sort(F,axis=1)\r\n",
    "G = F.view( dtype=[('p0',F.dtype),('p1',F.dtype)] )\r\n",
    "G = np.unique(G)\r\n",
    "print(G)"
   ],
   "outputs": [
    {
     "output_type": "stream",
     "name": "stdout",
     "text": [
      "[(19, 36) (19, 84) (21, 54) (21, 65) (24, 46) (24, 54) (24, 72) (24, 90)\n",
      " (28, 59) (28, 62) (36, 39) (36, 64) (36, 84) (39, 64) (40, 61) (40, 74)\n",
      " (43, 44) (43, 88) (44, 88) (46, 90) (54, 65) (54, 72) (56, 63) (56, 90)\n",
      " (57, 71) (57, 88) (59, 62) (61, 74) (63, 90) (71, 88)]\n"
     ]
    }
   ],
   "metadata": {}
  },
  {
   "cell_type": "code",
   "execution_count": 92,
   "source": [
    "# 74. Given an array C that is a bincount, \r\n",
    "# how to produce an array A such that np.bincount(A) == C?\r\n",
    "C = np.bincount([1,1,2,3,4,4,6])\r\n",
    "A = np.repeat(np.arange(len(C)), C)\r\n",
    "print(A)"
   ],
   "outputs": [
    {
     "output_type": "stream",
     "name": "stdout",
     "text": [
      "[1 1 2 3 4 4 6]\n"
     ]
    }
   ],
   "metadata": {}
  },
  {
   "cell_type": "code",
   "execution_count": 93,
   "source": [
    "#75. How to compute averages using a sliding window over an array?\r\n",
    "def moving_average(a, n=3) :\r\n",
    "    ret = np.cumsum(a, dtype=float)\r\n",
    "    ret[n:] = ret[n:] - ret[:-n]\r\n",
    "    return ret[n - 1:] / n\r\n",
    "Z = np.arange(20)\r\n",
    "print(moving_average(Z, n=3))"
   ],
   "outputs": [
    {
     "output_type": "stream",
     "name": "stdout",
     "text": [
      "[ 1.  2.  3.  4.  5.  6.  7.  8.  9. 10. 11. 12. 13. 14. 15. 16. 17. 18.]\n"
     ]
    }
   ],
   "metadata": {}
  },
  {
   "cell_type": "code",
   "execution_count": 95,
   "source": [
    "#76  Consider a one-dimensional array Z, build a two-dimensional array whose first row is (Z[0],Z[1],Z[2]) and \r\n",
    "# each subsequent row is shifted by 1 (last row should be (Z[-3],Z[-2],Z[-1])\r\n",
    "from numpy.lib import stride_tricks\r\n",
    "\r\n",
    "def rolling(a, window):\r\n",
    "    shape = (a.size - window + 1, window)\r\n",
    "    strides = (a.itemsize, a.itemsize)\r\n",
    "    return stride_tricks.as_strided(a, shape=shape, strides=strides)\r\n",
    "Z = rolling(np.arange(10), 3)\r\n",
    "print(Z)"
   ],
   "outputs": [
    {
     "output_type": "stream",
     "name": "stdout",
     "text": [
      "[[0 1 2]\n",
      " [1 2 3]\n",
      " [2 3 4]\n",
      " [3 4 5]\n",
      " [4 5 6]\n",
      " [5 6 7]\n",
      " [6 7 8]\n",
      " [7 8 9]]\n"
     ]
    }
   ],
   "metadata": {}
  },
  {
   "cell_type": "code",
   "execution_count": 96,
   "source": [
    "# 77. How to negate a boolean, or to change the sign of a float inplace?\r\n",
    "Z = np.random.randint(0,2,100)\r\n",
    "np.logical_not(Z, out=Z)\r\n",
    "\r\n",
    "Z = np.random.uniform(-1.0,1.0,100)\r\n",
    "np.negative(Z, out=Z)"
   ],
   "outputs": [
    {
     "output_type": "execute_result",
     "data": {
      "text/plain": [
       "array([ 0.09960407,  0.14561898, -0.1401545 , -0.66627298,  0.58147984,\n",
       "       -0.69151162, -0.41539796,  0.86758646,  0.69206795, -0.24492513,\n",
       "       -0.58623796,  0.25128418,  0.6009795 , -0.50785307,  0.44813512,\n",
       "        0.55224558, -0.49355122, -0.96853674,  0.6599773 , -0.23226614,\n",
       "        0.36757965, -0.61587868,  0.14731111, -0.92249508,  0.32252388,\n",
       "        0.45596533,  0.13396186, -0.71177797,  0.76735823, -0.09465133,\n",
       "       -0.26644576,  0.77824248,  0.07977002, -0.19434228, -0.96442496,\n",
       "       -0.60925761, -0.82745826,  0.29165199,  0.20384168,  0.11394684,\n",
       "       -0.08481587,  0.88733085,  0.47770204,  0.75908869, -0.32667238,\n",
       "        0.40234123,  0.08153938,  0.37179753, -0.70076991,  0.20648181,\n",
       "        0.40683731, -0.56054431,  0.56511771, -0.02624773, -0.0071743 ,\n",
       "        0.56764197, -0.41591794,  0.72743775, -0.50950714, -0.94637503,\n",
       "        0.20598862,  0.28379279, -0.59176459, -0.8761074 , -0.94497185,\n",
       "        0.22155679,  0.06111132,  0.79700979,  0.20063193, -0.94964453,\n",
       "        0.3040471 , -0.58324404,  0.80982127,  0.77016018,  0.99467694,\n",
       "       -0.21464449,  0.5997306 , -0.41730933, -0.09934291,  0.36424013,\n",
       "        0.74381495,  0.20255754,  0.94071366, -0.73953622, -0.79218165,\n",
       "       -0.44714204, -0.84035823, -0.43272577,  0.09405357, -0.04265016,\n",
       "        0.11172315, -0.49372474, -0.43982097,  0.03840656, -0.53742042,\n",
       "        0.40365193,  0.70024439,  0.5281328 ,  0.754357  ,  0.62173969])"
      ]
     },
     "metadata": {},
     "execution_count": 96
    }
   ],
   "metadata": {}
  },
  {
   "cell_type": "code",
   "execution_count": 97,
   "source": [
    "# 78. Consider 2 sets of points P0,P1 describing lines (2d) and a point p,\r\n",
    "#  how to compute distance from p to each line i (P0[i],P1[i])?\r\n",
    "def distance(P0, P1, p):\r\n",
    "    T = P1 - P0\r\n",
    "    L = (T**2).sum(axis=1)\r\n",
    "    U = -((P0[:,0]-p[...,0])*T[:,0] + (P0[:,1]-p[...,1])*T[:,1]) / L\r\n",
    "    U = U.reshape(len(U),1)\r\n",
    "    D = P0 + U*T - p\r\n",
    "    return np.sqrt((D**2).sum(axis=1))\r\n",
    "\r\n",
    "P0 = np.random.uniform(-10,10,(10,2))\r\n",
    "P1 = np.random.uniform(-10,10,(10,2))\r\n",
    "p  = np.random.uniform(-10,10,( 1,2))\r\n",
    "print(distance(P0, P1, p))"
   ],
   "outputs": [
    {
     "output_type": "stream",
     "name": "stdout",
     "text": [
      "[4.56690016 3.5357403  3.63545293 1.01635543 7.76596002 2.00651605\n",
      " 6.15950511 1.38737345 6.16292948 6.03015812]\n"
     ]
    }
   ],
   "metadata": {}
  },
  {
   "cell_type": "code",
   "execution_count": 98,
   "source": [
    "# 79. Consider 2 sets of points P0,P1 describing lines (2d) and a set of points P,\r\n",
    "#  how to compute distance from each point j (P[j]) to each line i (P0[i],P1[i])?\r\n",
    "P0 = np.random.uniform(-10, 10, (10,2))\r\n",
    "P1 = np.random.uniform(-10,10,(10,2))\r\n",
    "p = np.random.uniform(-10, 10, (10,2))\r\n",
    "print(np.array([distance(P0,P1,p_i) for p_i in p]))"
   ],
   "outputs": [
    {
     "output_type": "stream",
     "name": "stdout",
     "text": [
      "[[ 7.44304077  3.97767839  8.72840494  8.05280309 11.73853407  3.3490962\n",
      "   2.91313526 16.31494281  8.93392865  3.14251134]\n",
      " [ 4.97143957  7.32955268 11.70575895 10.17211897 14.3186645   0.25781353\n",
      "   1.93641889 14.49523104 11.02800692  0.12344715]\n",
      " [ 7.02223541  1.44002753  0.5871486   4.14317828  1.4572375   4.74825925\n",
      "  13.83011064  0.39615105  3.3534269   9.24103988]\n",
      " [ 1.46402941  0.30051564  3.28117405  1.00836594  5.42179474  1.06191661\n",
      "   4.90548527  9.30604894  1.856311    1.54556824]\n",
      " [10.57934623  5.85636989  7.39704261  1.33633171  7.67720477 11.22438422\n",
      "  14.14679227  1.70243073  2.08419809 14.10807317]\n",
      " [ 6.87816301  5.19963491  9.87444716  8.98513315 12.79042759  2.28778545\n",
      "   2.89071399 15.9949988   9.85946491  2.35625584]\n",
      " [ 8.3452782   6.90533552  2.22301951  2.21228598  1.00339576  9.68647474\n",
      "   0.98494537 14.94631774  1.30021277  6.28406747]\n",
      " [ 6.31384481  5.47969605  7.78156111  2.99276121  8.70734463  7.81049232\n",
      "  10.07914509  2.57618908  3.77201415 10.03959161]\n",
      " [ 6.50485927  6.65187228  4.64207626  9.01857562  3.65555365  1.64895404\n",
      "  15.61223209  0.17213491  8.21339281  7.65679047]\n",
      " [ 3.20046256  4.20282542  1.54514512  5.04219194  0.07869925  0.42889796\n",
      "  11.25386761  3.71925476  4.21886183  5.08371743]]\n"
     ]
    }
   ],
   "metadata": {}
  },
  {
   "cell_type": "code",
   "execution_count": 99,
   "source": [
    "# 80. Consider an arbitrary array, write a function that extract a subpart with a fixed shape \r\n",
    "# and centered on a given element (pad with a fill value when necessary)\r\n",
    "Z = np.random.randint(0,10,(10,10))\r\n",
    "shape = (5,5)\r\n",
    "fill  = 0\r\n",
    "position = (1,1)\r\n",
    "\r\n",
    "R = np.ones(shape, dtype=Z.dtype)*fill\r\n",
    "P  = np.array(list(position)).astype(int)\r\n",
    "Rs = np.array(list(R.shape)).astype(int)\r\n",
    "Zs = np.array(list(Z.shape)).astype(int)\r\n",
    "\r\n",
    "R_start = np.zeros((len(shape),)).astype(int)\r\n",
    "R_stop  = np.array(list(shape)).astype(int)\r\n",
    "Z_start = (P-Rs//2)\r\n",
    "Z_stop  = (P+Rs//2)+Rs%2\r\n",
    "\r\n",
    "R_start = (R_start - np.minimum(Z_start,0)).tolist()\r\n",
    "Z_start = (np.maximum(Z_start,0)).tolist()\r\n",
    "R_stop = np.maximum(R_start, (R_stop - np.maximum(Z_stop-Zs,0))).tolist()\r\n",
    "Z_stop = (np.minimum(Z_stop,Zs)).tolist()\r\n",
    "\r\n",
    "r = [slice(start,stop) for start,stop in zip(R_start,R_stop)]\r\n",
    "z = [slice(start,stop) for start,stop in zip(Z_start,Z_stop)]\r\n",
    "R[r] = Z[z]\r\n",
    "print(Z)\r\n",
    "print(R)"
   ],
   "outputs": [
    {
     "output_type": "stream",
     "name": "stdout",
     "text": [
      "[[3 7 3 2 0 9 4 7 2 3]\n",
      " [4 2 7 4 4 7 4 0 3 2]\n",
      " [2 7 9 2 8 6 8 4 9 1]\n",
      " [1 0 6 9 3 2 9 4 7 2]\n",
      " [4 9 9 9 9 0 1 4 0 5]\n",
      " [3 6 2 9 0 8 0 6 4 2]\n",
      " [2 3 3 1 1 9 0 4 6 8]\n",
      " [0 9 5 3 6 6 1 5 1 3]\n",
      " [6 2 2 7 2 0 3 9 4 2]\n",
      " [7 6 9 4 8 3 4 3 7 2]]\n",
      "[[0 0 0 0 0]\n",
      " [0 3 7 3 2]\n",
      " [0 4 2 7 4]\n",
      " [0 2 7 9 2]\n",
      " [0 1 0 6 9]]\n"
     ]
    },
    {
     "output_type": "stream",
     "name": "stderr",
     "text": [
      "<ipython-input-99-5c6610b8e5e3>:25: FutureWarning: Using a non-tuple sequence for multidimensional indexing is deprecated; use `arr[tuple(seq)]` instead of `arr[seq]`. In the future this will be interpreted as an array index, `arr[np.array(seq)]`, which will result either in an error or a different result.\n",
      "  R[r] = Z[z]\n"
     ]
    }
   ],
   "metadata": {}
  },
  {
   "cell_type": "code",
   "execution_count": 100,
   "source": [
    "# 81. Consider an array Z = [1,2,3,4,5,6,7,8,9,10,11,12,13,14], \r\n",
    "# how to generate an array R = [[1,2,3,4], [2,3,4,5], [3,4,5,6], ..., [11,12,13,14]]?\r\n",
    "Z = np.arange(1,15,dtype=np.uint32)\r\n",
    "R = stride_tricks.as_strided(Z,(11,4),(4,4))\r\n",
    "print(R)"
   ],
   "outputs": [
    {
     "output_type": "stream",
     "name": "stdout",
     "text": [
      "[[ 1  2  3  4]\n",
      " [ 2  3  4  5]\n",
      " [ 3  4  5  6]\n",
      " [ 4  5  6  7]\n",
      " [ 5  6  7  8]\n",
      " [ 6  7  8  9]\n",
      " [ 7  8  9 10]\n",
      " [ 8  9 10 11]\n",
      " [ 9 10 11 12]\n",
      " [10 11 12 13]\n",
      " [11 12 13 14]]\n"
     ]
    }
   ],
   "metadata": {}
  },
  {
   "cell_type": "code",
   "execution_count": 101,
   "source": [
    "#82 compute a matrix rank  using SVD\r\n",
    "Z = np.random.uniform(0,1,(10,10))\r\n",
    "U, S, V = np.linalg.svd(Z) # Singular Value Decomposition\r\n",
    "rank = np.sum(S > 1e-10)\r\n",
    "print(rank)"
   ],
   "outputs": [
    {
     "output_type": "stream",
     "name": "stdout",
     "text": [
      "10\n"
     ]
    }
   ],
   "metadata": {}
  },
  {
   "cell_type": "code",
   "execution_count": 103,
   "source": [
    "# 83. How to find the most frequent value in an array?\r\n",
    "Z = np.random.randint(0,10,50)\r\n",
    "print(Z)\r\n",
    "print(np.bincount(Z).argmax())"
   ],
   "outputs": [
    {
     "output_type": "stream",
     "name": "stdout",
     "text": [
      "[7 1 5 0 7 7 8 4 7 9 4 1 8 7 1 2 4 1 1 9 8 7 1 6 1 2 4 9 0 3 6 9 1 5 3 6 3\n",
      " 1 8 6 5 6 3 2 7 6 8 3 8 7]\n",
      "1\n"
     ]
    }
   ],
   "metadata": {}
  },
  {
   "cell_type": "code",
   "execution_count": 105,
   "source": [
    "# 84. Extract all the contiguous(tiếp giáp) 3x3 blocks from a random 10x10 matrix\r\n",
    "Z = np.random.randint(0,5,(10,10))\r\n",
    "print(Z)\r\n",
    "n = 3\r\n",
    "i = 1 + (Z.shape[0]-3)\r\n",
    "j = 1 + (Z.shape[1]-3)\r\n",
    "C = stride_tricks.as_strided(Z, shape=(i, j, n, n), strides=Z.strides + Z.strides)\r\n",
    "print(C)"
   ],
   "outputs": [
    {
     "output_type": "stream",
     "name": "stdout",
     "text": [
      "[[2 1 3 1 2 3 3 0 1 3]\n",
      " [1 2 4 3 0 2 4 3 2 0]\n",
      " [1 4 0 3 2 2 4 2 3 0]\n",
      " [0 4 4 0 0 3 3 1 1 2]\n",
      " [0 1 1 0 0 0 2 4 2 0]\n",
      " [1 1 3 3 3 4 1 2 1 2]\n",
      " [0 3 3 0 0 1 1 3 3 2]\n",
      " [0 3 2 2 4 0 2 3 3 3]\n",
      " [2 3 0 3 4 2 3 0 4 0]\n",
      " [4 1 4 4 4 1 3 2 3 1]]\n",
      "[[[[2 1 3]\n",
      "   [1 2 4]\n",
      "   [1 4 0]]\n",
      "\n",
      "  [[1 3 1]\n",
      "   [2 4 3]\n",
      "   [4 0 3]]\n",
      "\n",
      "  [[3 1 2]\n",
      "   [4 3 0]\n",
      "   [0 3 2]]\n",
      "\n",
      "  [[1 2 3]\n",
      "   [3 0 2]\n",
      "   [3 2 2]]\n",
      "\n",
      "  [[2 3 3]\n",
      "   [0 2 4]\n",
      "   [2 2 4]]\n",
      "\n",
      "  [[3 3 0]\n",
      "   [2 4 3]\n",
      "   [2 4 2]]\n",
      "\n",
      "  [[3 0 1]\n",
      "   [4 3 2]\n",
      "   [4 2 3]]\n",
      "\n",
      "  [[0 1 3]\n",
      "   [3 2 0]\n",
      "   [2 3 0]]]\n",
      "\n",
      "\n",
      " [[[1 2 4]\n",
      "   [1 4 0]\n",
      "   [0 4 4]]\n",
      "\n",
      "  [[2 4 3]\n",
      "   [4 0 3]\n",
      "   [4 4 0]]\n",
      "\n",
      "  [[4 3 0]\n",
      "   [0 3 2]\n",
      "   [4 0 0]]\n",
      "\n",
      "  [[3 0 2]\n",
      "   [3 2 2]\n",
      "   [0 0 3]]\n",
      "\n",
      "  [[0 2 4]\n",
      "   [2 2 4]\n",
      "   [0 3 3]]\n",
      "\n",
      "  [[2 4 3]\n",
      "   [2 4 2]\n",
      "   [3 3 1]]\n",
      "\n",
      "  [[4 3 2]\n",
      "   [4 2 3]\n",
      "   [3 1 1]]\n",
      "\n",
      "  [[3 2 0]\n",
      "   [2 3 0]\n",
      "   [1 1 2]]]\n",
      "\n",
      "\n",
      " [[[1 4 0]\n",
      "   [0 4 4]\n",
      "   [0 1 1]]\n",
      "\n",
      "  [[4 0 3]\n",
      "   [4 4 0]\n",
      "   [1 1 0]]\n",
      "\n",
      "  [[0 3 2]\n",
      "   [4 0 0]\n",
      "   [1 0 0]]\n",
      "\n",
      "  [[3 2 2]\n",
      "   [0 0 3]\n",
      "   [0 0 0]]\n",
      "\n",
      "  [[2 2 4]\n",
      "   [0 3 3]\n",
      "   [0 0 2]]\n",
      "\n",
      "  [[2 4 2]\n",
      "   [3 3 1]\n",
      "   [0 2 4]]\n",
      "\n",
      "  [[4 2 3]\n",
      "   [3 1 1]\n",
      "   [2 4 2]]\n",
      "\n",
      "  [[2 3 0]\n",
      "   [1 1 2]\n",
      "   [4 2 0]]]\n",
      "\n",
      "\n",
      " [[[0 4 4]\n",
      "   [0 1 1]\n",
      "   [1 1 3]]\n",
      "\n",
      "  [[4 4 0]\n",
      "   [1 1 0]\n",
      "   [1 3 3]]\n",
      "\n",
      "  [[4 0 0]\n",
      "   [1 0 0]\n",
      "   [3 3 3]]\n",
      "\n",
      "  [[0 0 3]\n",
      "   [0 0 0]\n",
      "   [3 3 4]]\n",
      "\n",
      "  [[0 3 3]\n",
      "   [0 0 2]\n",
      "   [3 4 1]]\n",
      "\n",
      "  [[3 3 1]\n",
      "   [0 2 4]\n",
      "   [4 1 2]]\n",
      "\n",
      "  [[3 1 1]\n",
      "   [2 4 2]\n",
      "   [1 2 1]]\n",
      "\n",
      "  [[1 1 2]\n",
      "   [4 2 0]\n",
      "   [2 1 2]]]\n",
      "\n",
      "\n",
      " [[[0 1 1]\n",
      "   [1 1 3]\n",
      "   [0 3 3]]\n",
      "\n",
      "  [[1 1 0]\n",
      "   [1 3 3]\n",
      "   [3 3 0]]\n",
      "\n",
      "  [[1 0 0]\n",
      "   [3 3 3]\n",
      "   [3 0 0]]\n",
      "\n",
      "  [[0 0 0]\n",
      "   [3 3 4]\n",
      "   [0 0 1]]\n",
      "\n",
      "  [[0 0 2]\n",
      "   [3 4 1]\n",
      "   [0 1 1]]\n",
      "\n",
      "  [[0 2 4]\n",
      "   [4 1 2]\n",
      "   [1 1 3]]\n",
      "\n",
      "  [[2 4 2]\n",
      "   [1 2 1]\n",
      "   [1 3 3]]\n",
      "\n",
      "  [[4 2 0]\n",
      "   [2 1 2]\n",
      "   [3 3 2]]]\n",
      "\n",
      "\n",
      " [[[1 1 3]\n",
      "   [0 3 3]\n",
      "   [0 3 2]]\n",
      "\n",
      "  [[1 3 3]\n",
      "   [3 3 0]\n",
      "   [3 2 2]]\n",
      "\n",
      "  [[3 3 3]\n",
      "   [3 0 0]\n",
      "   [2 2 4]]\n",
      "\n",
      "  [[3 3 4]\n",
      "   [0 0 1]\n",
      "   [2 4 0]]\n",
      "\n",
      "  [[3 4 1]\n",
      "   [0 1 1]\n",
      "   [4 0 2]]\n",
      "\n",
      "  [[4 1 2]\n",
      "   [1 1 3]\n",
      "   [0 2 3]]\n",
      "\n",
      "  [[1 2 1]\n",
      "   [1 3 3]\n",
      "   [2 3 3]]\n",
      "\n",
      "  [[2 1 2]\n",
      "   [3 3 2]\n",
      "   [3 3 3]]]\n",
      "\n",
      "\n",
      " [[[0 3 3]\n",
      "   [0 3 2]\n",
      "   [2 3 0]]\n",
      "\n",
      "  [[3 3 0]\n",
      "   [3 2 2]\n",
      "   [3 0 3]]\n",
      "\n",
      "  [[3 0 0]\n",
      "   [2 2 4]\n",
      "   [0 3 4]]\n",
      "\n",
      "  [[0 0 1]\n",
      "   [2 4 0]\n",
      "   [3 4 2]]\n",
      "\n",
      "  [[0 1 1]\n",
      "   [4 0 2]\n",
      "   [4 2 3]]\n",
      "\n",
      "  [[1 1 3]\n",
      "   [0 2 3]\n",
      "   [2 3 0]]\n",
      "\n",
      "  [[1 3 3]\n",
      "   [2 3 3]\n",
      "   [3 0 4]]\n",
      "\n",
      "  [[3 3 2]\n",
      "   [3 3 3]\n",
      "   [0 4 0]]]\n",
      "\n",
      "\n",
      " [[[0 3 2]\n",
      "   [2 3 0]\n",
      "   [4 1 4]]\n",
      "\n",
      "  [[3 2 2]\n",
      "   [3 0 3]\n",
      "   [1 4 4]]\n",
      "\n",
      "  [[2 2 4]\n",
      "   [0 3 4]\n",
      "   [4 4 4]]\n",
      "\n",
      "  [[2 4 0]\n",
      "   [3 4 2]\n",
      "   [4 4 1]]\n",
      "\n",
      "  [[4 0 2]\n",
      "   [4 2 3]\n",
      "   [4 1 3]]\n",
      "\n",
      "  [[0 2 3]\n",
      "   [2 3 0]\n",
      "   [1 3 2]]\n",
      "\n",
      "  [[2 3 3]\n",
      "   [3 0 4]\n",
      "   [3 2 3]]\n",
      "\n",
      "  [[3 3 3]\n",
      "   [0 4 0]\n",
      "   [2 3 1]]]]\n"
     ]
    }
   ],
   "metadata": {}
  },
  {
   "cell_type": "code",
   "execution_count": 106,
   "source": [
    "# 85. Create a 2D array subclass such that Z[i,j] == Z[j,i]\r\n",
    "\r\n",
    "# works for 2d array and value setting using indices \r\n",
    "class Symetric(np.ndarray):\r\n",
    "    def __setitem__(self, index, value):\r\n",
    "        i,j = index\r\n",
    "        super(Symetric, self).__setitem__((i,j), value)\r\n",
    "        super(Symetric, self).__setitem__((j,i), value)\r\n",
    "\r\n",
    "def symetric(Z):\r\n",
    "    return np.asarray(Z + Z.T - np.diag(Z.diagonal())).view(Symetric)\r\n",
    "\r\n",
    "S = symetric(np.random.randint(0,10,(5,5)))\r\n",
    "S[2,3] = 42\r\n",
    "print(S)"
   ],
   "outputs": [
    {
     "output_type": "stream",
     "name": "stdout",
     "text": [
      "[[ 3 17  2 10 15]\n",
      " [17  5  8  4 13]\n",
      " [ 2  8  3 42 14]\n",
      " [10  4 42  3  8]\n",
      " [15 13 14  8  7]]\n"
     ]
    }
   ],
   "metadata": {}
  },
  {
   "cell_type": "code",
   "execution_count": 107,
   "source": [
    "# 86. Consider a set of p matrices wich shape (n,n) and a set of p vectors with shape (n,1). \r\n",
    "# How to compute the sum of of the p matrix products at once? (result has shape (n,1))\r\n",
    "p, n = 10, 20\r\n",
    "M = np.ones((p,n,n)) \r\n",
    "V = np.ones((p,n,1))\r\n",
    "S = np.tensordot(M, V, axes=[[0, 2], [0, 1]])\r\n",
    "print(S)"
   ],
   "outputs": [
    {
     "output_type": "stream",
     "name": "stdout",
     "text": [
      "[[200.]\n",
      " [200.]\n",
      " [200.]\n",
      " [200.]\n",
      " [200.]\n",
      " [200.]\n",
      " [200.]\n",
      " [200.]\n",
      " [200.]\n",
      " [200.]\n",
      " [200.]\n",
      " [200.]\n",
      " [200.]\n",
      " [200.]\n",
      " [200.]\n",
      " [200.]\n",
      " [200.]\n",
      " [200.]\n",
      " [200.]\n",
      " [200.]]\n"
     ]
    }
   ],
   "metadata": {}
  },
  {
   "cell_type": "code",
   "execution_count": 108,
   "source": [
    "# 87. Consider a 16x16 array, how to get the block-sum (block size is 4x4)\r\n",
    "Z = np.ones((16,16))\r\n",
    "k = 4\r\n",
    "S = np.add.reduceat(np.add.reduceat(Z, np.arange(0, Z.shape[0], k), axis=0),\r\n",
    "                                       np.arange(0, Z.shape[1], k), axis=1)\r\n",
    "print(S)"
   ],
   "outputs": [
    {
     "output_type": "stream",
     "name": "stdout",
     "text": [
      "[[16. 16. 16. 16.]\n",
      " [16. 16. 16. 16.]\n",
      " [16. 16. 16. 16.]\n",
      " [16. 16. 16. 16.]]\n"
     ]
    }
   ],
   "metadata": {}
  },
  {
   "cell_type": "code",
   "execution_count": 109,
   "source": [
    "# 88. How to implement the Game of Life using numpy arrays?\r\n",
    "def iterate(Z):\r\n",
    "    # Count neighbours\r\n",
    "    N = (Z[0:-2,0:-2] + Z[0:-2,1:-1] + Z[0:-2,2:] +\r\n",
    "         Z[1:-1,0:-2]                + Z[1:-1,2:] +\r\n",
    "         Z[2:  ,0:-2] + Z[2:  ,1:-1] + Z[2:  ,2:])\r\n",
    "\r\n",
    "    # Apply rules\r\n",
    "    birth = (N==3) & (Z[1:-1,1:-1]==0)\r\n",
    "    survive = ((N==2) | (N==3)) & (Z[1:-1,1:-1]==1)\r\n",
    "    Z[...] = 0\r\n",
    "    Z[1:-1,1:-1][birth | survive] = 1\r\n",
    "    return Z\r\n",
    "\r\n",
    "Z = np.random.randint(0,2,(50,50))\r\n",
    "for i in range(100): Z = iterate(Z)\r\n",
    "print(Z)"
   ],
   "outputs": [
    {
     "output_type": "stream",
     "name": "stdout",
     "text": [
      "[[0 0 0 ... 0 0 0]\n",
      " [0 0 0 ... 0 0 0]\n",
      " [0 0 0 ... 0 0 0]\n",
      " ...\n",
      " [0 0 0 ... 1 1 0]\n",
      " [0 0 0 ... 0 0 0]\n",
      " [0 0 0 ... 0 0 0]]\n"
     ]
    }
   ],
   "metadata": {}
  },
  {
   "cell_type": "code",
   "execution_count": 110,
   "source": [
    "# 89. How to get the n largest values of an array\r\n",
    "Z = np.arange(10000)\r\n",
    "np.random.shuffle(Z)\r\n",
    "n = 5\r\n",
    "\r\n",
    "# Slow\r\n",
    "print (Z[np.argsort(Z)[-n:]])\r\n",
    "\r\n",
    "# Fast\r\n",
    "print (Z[np.argpartition(-Z,n)[:n]])\r\n"
   ],
   "outputs": [
    {
     "output_type": "stream",
     "name": "stdout",
     "text": [
      "[9995 9996 9997 9998 9999]\n",
      "[9999 9998 9997 9996 9995]\n"
     ]
    }
   ],
   "metadata": {}
  },
  {
   "cell_type": "code",
   "execution_count": 111,
   "source": [
    "# 90. Given an arbitrary number of vectors, \r\n",
    "# build the cartesian product (every combinations of every item)\r\n",
    "def cartesian(arrays):\r\n",
    "    arrays = [np.asarray(a) for a in arrays]\r\n",
    "    shape = (len(x) for x in arrays)\r\n",
    "\r\n",
    "    ix = np.indices(shape, dtype=int)\r\n",
    "    ix = ix.reshape(len(arrays), -1).T\r\n",
    "\r\n",
    "    for n, arr in enumerate(arrays):\r\n",
    "        ix[:, n] = arrays[n][ix[:, n]]\r\n",
    "\r\n",
    "    return ix\r\n",
    "\r\n",
    "print (cartesian(([1, 2, 3], [4, 5], [6, 7])))"
   ],
   "outputs": [
    {
     "output_type": "stream",
     "name": "stdout",
     "text": [
      "[[1 4 6]\n",
      " [1 4 7]\n",
      " [1 5 6]\n",
      " [1 5 7]\n",
      " [2 4 6]\n",
      " [2 4 7]\n",
      " [2 5 6]\n",
      " [2 5 7]\n",
      " [3 4 6]\n",
      " [3 4 7]\n",
      " [3 5 6]\n",
      " [3 5 7]]\n"
     ]
    }
   ],
   "metadata": {}
  },
  {
   "cell_type": "code",
   "execution_count": 112,
   "source": [
    "# 91. How to create a record array from a regular array?\r\n",
    "Z = np.array([(\"Hello\", 2.5, 3),\r\n",
    "              (\"World\", 3.6, 2)])\r\n",
    "R = np.core.records.fromarrays(Z.T, \r\n",
    "                               names='col1, col2, col3',\r\n",
    "                               formats = 'S8, f8, i8')\r\n",
    "print(R)"
   ],
   "outputs": [
    {
     "output_type": "stream",
     "name": "stdout",
     "text": [
      "[(b'Hello', 2.5, 3) (b'World', 3.6, 2)]\n"
     ]
    }
   ],
   "metadata": {}
  },
  {
   "cell_type": "code",
   "execution_count": 113,
   "source": [
    "# 92. Consider a large vector Z, compute Z to the power of 3 using 3 different methods\r\n",
    "x = np.random.rand(5e7)\r\n",
    "\r\n",
    "%timeit np.power(x,3)\r\n",
    "%timeit x*x*x\r\n",
    "%timeit np.einsum('i,i,i->i',x,x,x)"
   ],
   "outputs": [
    {
     "output_type": "error",
     "ename": "TypeError",
     "evalue": "'float' object cannot be interpreted as an integer",
     "traceback": [
      "\u001b[1;31m---------------------------------------------------------------------------\u001b[0m",
      "\u001b[1;31mTypeError\u001b[0m                                 Traceback (most recent call last)",
      "\u001b[1;32m<ipython-input-113-e0c5393d0e8c>\u001b[0m in \u001b[0;36m<module>\u001b[1;34m\u001b[0m\n\u001b[0;32m      1\u001b[0m \u001b[1;31m# 92. Consider a large vector Z, compute Z to the power of 3 using 3 different methods\u001b[0m\u001b[1;33m\u001b[0m\u001b[1;33m\u001b[0m\u001b[1;33m\u001b[0m\u001b[0m\n\u001b[1;32m----> 2\u001b[1;33m \u001b[0mx\u001b[0m \u001b[1;33m=\u001b[0m \u001b[0mnp\u001b[0m\u001b[1;33m.\u001b[0m\u001b[0mrandom\u001b[0m\u001b[1;33m.\u001b[0m\u001b[0mrand\u001b[0m\u001b[1;33m(\u001b[0m\u001b[1;36m5e7\u001b[0m\u001b[1;33m)\u001b[0m\u001b[1;33m\u001b[0m\u001b[1;33m\u001b[0m\u001b[0m\n\u001b[0m\u001b[0;32m      3\u001b[0m \u001b[1;33m\u001b[0m\u001b[0m\n\u001b[0;32m      4\u001b[0m \u001b[0mget_ipython\u001b[0m\u001b[1;33m(\u001b[0m\u001b[1;33m)\u001b[0m\u001b[1;33m.\u001b[0m\u001b[0mrun_line_magic\u001b[0m\u001b[1;33m(\u001b[0m\u001b[1;34m'timeit'\u001b[0m\u001b[1;33m,\u001b[0m \u001b[1;34m'np.power(x,3)\\r'\u001b[0m\u001b[1;33m)\u001b[0m\u001b[1;33m\u001b[0m\u001b[1;33m\u001b[0m\u001b[0m\n\u001b[0;32m      5\u001b[0m \u001b[0mget_ipython\u001b[0m\u001b[1;33m(\u001b[0m\u001b[1;33m)\u001b[0m\u001b[1;33m.\u001b[0m\u001b[0mrun_line_magic\u001b[0m\u001b[1;33m(\u001b[0m\u001b[1;34m'timeit'\u001b[0m\u001b[1;33m,\u001b[0m \u001b[1;34m'x*x*x\\r'\u001b[0m\u001b[1;33m)\u001b[0m\u001b[1;33m\u001b[0m\u001b[1;33m\u001b[0m\u001b[0m\n",
      "\u001b[1;32mmtrand.pyx\u001b[0m in \u001b[0;36mnumpy.random.mtrand.RandomState.rand\u001b[1;34m()\u001b[0m\n",
      "\u001b[1;32mmtrand.pyx\u001b[0m in \u001b[0;36mnumpy.random.mtrand.RandomState.random_sample\u001b[1;34m()\u001b[0m\n",
      "\u001b[1;32m_common.pyx\u001b[0m in \u001b[0;36mnumpy.random._common.double_fill\u001b[1;34m()\u001b[0m\n",
      "\u001b[1;31mTypeError\u001b[0m: 'float' object cannot be interpreted as an integer"
     ]
    }
   ],
   "metadata": {}
  },
  {
   "cell_type": "code",
   "execution_count": 114,
   "source": [
    "# 93. Consider two arrays A and B of shape (8,3) and (2,2).\r\n",
    "#  How to find rows of A that contain elements of each row of B regardless of the order of the elements in B?\r\n",
    "A = np.random.randint(0,5,(8,3))\r\n",
    "B = np.random.randint(0,5,(2,2))\r\n",
    "\r\n",
    "C = (A[..., np.newaxis, np.newaxis] == B)\r\n",
    "rows = np.where(C.any((3,1)).all(1))[0]\r\n",
    "print(rows)"
   ],
   "outputs": [
    {
     "output_type": "stream",
     "name": "stdout",
     "text": [
      "[2 7]\n"
     ]
    }
   ],
   "metadata": {}
  },
  {
   "cell_type": "code",
   "execution_count": 115,
   "source": [
    "# 94. Considering a 10x3 matrix, extract rows with unequal values (e.g. [2,2,3])\r\n",
    "Z = np.random.randint(0,5,(10,3))\r\n",
    "print(Z)\r\n",
    "# solution for arrays of all dtypes (including string arrays and record arrays)\r\n",
    "E = np.all(Z[:,1:] == Z[:,:-1], axis=1)\r\n",
    "U = Z[~E]\r\n",
    "print(U)\r\n",
    "# soluiton for numerical arrays only, will work for any number of columns in Z\r\n",
    "U = Z[Z.max(axis=1) != Z.min(axis=1),:]\r\n",
    "print(U)"
   ],
   "outputs": [
    {
     "output_type": "stream",
     "name": "stdout",
     "text": [
      "[[2 4 3]\n",
      " [0 0 3]\n",
      " [1 0 2]\n",
      " [0 0 2]\n",
      " [2 3 2]\n",
      " [3 0 4]\n",
      " [0 0 0]\n",
      " [4 2 3]\n",
      " [0 1 1]\n",
      " [3 4 1]]\n",
      "[[2 4 3]\n",
      " [0 0 3]\n",
      " [1 0 2]\n",
      " [0 0 2]\n",
      " [2 3 2]\n",
      " [3 0 4]\n",
      " [4 2 3]\n",
      " [0 1 1]\n",
      " [3 4 1]]\n",
      "[[2 4 3]\n",
      " [0 0 3]\n",
      " [1 0 2]\n",
      " [0 0 2]\n",
      " [2 3 2]\n",
      " [3 0 4]\n",
      " [4 2 3]\n",
      " [0 1 1]\n",
      " [3 4 1]]\n"
     ]
    }
   ],
   "metadata": {}
  },
  {
   "cell_type": "code",
   "execution_count": 116,
   "source": [
    "# 95. Convert a vector of ints into a matrix binary representation\r\n",
    "# Author: Warren Weckesser\r\n",
    "\r\n",
    "I = np.array([0, 1, 2, 3, 15, 16, 32, 64, 128])\r\n",
    "B = ((I.reshape(-1,1) & (2**np.arange(8))) != 0).astype(int)\r\n",
    "print(B[:,::-1])\r\n",
    "\r\n",
    "# Author: Daniel T. McDonald\r\n",
    "\r\n",
    "I = np.array([0, 1, 2, 3, 15, 16, 32, 64, 128], dtype=np.uint8)\r\n",
    "print(np.unpackbits(I[:, np.newaxis], axis=1))"
   ],
   "outputs": [
    {
     "output_type": "stream",
     "name": "stdout",
     "text": [
      "[[0 0 0 0 0 0 0 0]\n",
      " [0 0 0 0 0 0 0 1]\n",
      " [0 0 0 0 0 0 1 0]\n",
      " [0 0 0 0 0 0 1 1]\n",
      " [0 0 0 0 1 1 1 1]\n",
      " [0 0 0 1 0 0 0 0]\n",
      " [0 0 1 0 0 0 0 0]\n",
      " [0 1 0 0 0 0 0 0]\n",
      " [1 0 0 0 0 0 0 0]]\n",
      "[[0 0 0 0 0 0 0 0]\n",
      " [0 0 0 0 0 0 0 1]\n",
      " [0 0 0 0 0 0 1 0]\n",
      " [0 0 0 0 0 0 1 1]\n",
      " [0 0 0 0 1 1 1 1]\n",
      " [0 0 0 1 0 0 0 0]\n",
      " [0 0 1 0 0 0 0 0]\n",
      " [0 1 0 0 0 0 0 0]\n",
      " [1 0 0 0 0 0 0 0]]\n"
     ]
    }
   ],
   "metadata": {}
  },
  {
   "cell_type": "code",
   "execution_count": 117,
   "source": [
    "# 96. Given a two dimensional array, how to extract unique rows?\r\n",
    "#Solution1\r\n",
    "Z = np.random.randint(0,2,(6,3))\r\n",
    "T = np.ascontiguousarray(Z).view(np.dtype((np.void, Z.dtype.itemsize * Z.shape[1])))\r\n",
    "_, idx = np.unique(T, return_index=True)\r\n",
    "uZ = Z[idx]\r\n",
    "print(uZ)\r\n",
    "\r\n",
    "#Solution2 (numpy>=1.13)\r\n",
    "uZ = np.unique(Z, axis=0)\r\n",
    "print(uZ)"
   ],
   "outputs": [
    {
     "output_type": "stream",
     "name": "stdout",
     "text": [
      "[[0 1 0]\n",
      " [1 0 0]\n",
      " [1 0 1]\n",
      " [1 1 0]\n",
      " [1 1 1]]\n",
      "[[0 1 0]\n",
      " [1 0 0]\n",
      " [1 0 1]\n",
      " [1 1 0]\n",
      " [1 1 1]]\n"
     ]
    }
   ],
   "metadata": {}
  },
  {
   "cell_type": "code",
   "execution_count": 118,
   "source": [
    "# 97. Considering 2 vectors A & B, \r\n",
    "# write the einsum equivalent of inner, outer, sum, and mul function\r\n",
    "#http://ajcr.net/Basic-guide-to-einsum/\r\n",
    "A = np.random.uniform(0,1,10)\r\n",
    "B = np.random.uniform(0,1,10)\r\n",
    "\r\n",
    "np.einsum('i->', A)       # np.sum(A)\r\n",
    "np.einsum('i,i->i', A, B) # A * B\r\n",
    "np.einsum('i,i', A, B)    # np.inner(A, B)\r\n",
    "np.einsum('i,j->ij', A, B)    # np.outer(A, B)"
   ],
   "outputs": [
    {
     "output_type": "execute_result",
     "data": {
      "text/plain": [
       "array([[0.42163093, 0.47992372, 0.37634655, 0.44212052, 0.36766591,\n",
       "        0.17727544, 0.08985441, 0.02190702, 0.31297088, 0.38871425],\n",
       "       [0.65929352, 0.75044448, 0.5884835 , 0.69133258, 0.5749098 ,\n",
       "        0.27720108, 0.14050304, 0.03425546, 0.48938458, 0.60782256],\n",
       "       [0.65038264, 0.74030161, 0.58052967, 0.68198866, 0.56713943,\n",
       "        0.27345449, 0.13860403, 0.03379247, 0.48277015, 0.59960735],\n",
       "       [0.34592053, 0.39374595, 0.30876767, 0.3627309 , 0.30164577,\n",
       "        0.14544288, 0.07371965, 0.01797328, 0.25677209, 0.31891456],\n",
       "       [0.68759271, 0.78265618, 0.61374327, 0.72100699, 0.59958694,\n",
       "        0.28909952, 0.14653393, 0.03572582, 0.51039067, 0.63391243],\n",
       "       [0.37819196, 0.43047907, 0.33757305, 0.39657059, 0.32978674,\n",
       "        0.15901145, 0.08059706, 0.01965003, 0.28072672, 0.34866656],\n",
       "       [0.51653977, 0.58795424, 0.46106192, 0.54164157, 0.45042727,\n",
       "        0.21718003, 0.11008058, 0.02683828, 0.38342042, 0.47621358],\n",
       "       [0.03432012, 0.03906506, 0.03063404, 0.03598794, 0.02992745,\n",
       "        0.01442995, 0.00731401, 0.0017832 , 0.02547535, 0.03164075],\n",
       "       [0.0182804 , 0.02080776, 0.01631703, 0.01916875, 0.01594067,\n",
       "        0.00768602, 0.00389576, 0.00094981, 0.01356929, 0.01685325],\n",
       "       [0.63230047, 0.71971948, 0.56438958, 0.66302777, 0.55137162,\n",
       "        0.26585181, 0.13475051, 0.03285295, 0.469348  , 0.58293685]])"
      ]
     },
     "metadata": {},
     "execution_count": 118
    }
   ],
   "metadata": {}
  },
  {
   "cell_type": "code",
   "execution_count": 119,
   "source": [
    "# 98. Considering a path described by two vectors (X,Y), \r\n",
    "# how to sample it using equidistant samples\r\n",
    "\r\n",
    "phi = np.arange(0, 10*np.pi, 0.1)\r\n",
    "a = 1\r\n",
    "x = a*phi*np.cos(phi)\r\n",
    "y = a*phi*np.sin(phi)\r\n",
    "\r\n",
    "dr = (np.diff(x)**2 + np.diff(y)**2)**.5 # segment lengths\r\n",
    "r = np.zeros_like(x)\r\n",
    "r[1:] = np.cumsum(dr)                # integrate path\r\n",
    "r_int = np.linspace(0, r.max(), 200) # regular spaced path\r\n",
    "x_int = np.interp(r_int, r, x)       # integrate path\r\n",
    "y_int = np.interp(r_int, r, y)"
   ],
   "outputs": [],
   "metadata": {}
  },
  {
   "cell_type": "code",
   "execution_count": 120,
   "source": [
    "# 99. Given an integer n and a 2D array X, select from X the rows \r\n",
    "# which can be interpreted as draws from a multinomial distribution with n degrees, i.e., \r\n",
    "# the rows which only contain integers and which sum to n\r\n",
    "X = np.asarray([[1.0, 0.0, 3.0, 8.0],\r\n",
    "                [2.0, 0.0, 1.0, 1.0],\r\n",
    "                [1.5, 2.5, 1.0, 0.0]])\r\n",
    "n = 4\r\n",
    "M = np.logical_and.reduce(np.mod(X, 1) == 0, axis=-1)\r\n",
    "M &= (X.sum(axis=-1) == n)\r\n",
    "print(X[M])"
   ],
   "outputs": [
    {
     "output_type": "stream",
     "name": "stdout",
     "text": [
      "[[2. 0. 1. 1.]]\n"
     ]
    }
   ],
   "metadata": {}
  },
  {
   "cell_type": "code",
   "execution_count": 121,
   "source": [
    "#100 Compute bootstrapped 95% confidence intervals for the mean of a 1D array X \r\n",
    "# (i.e., resample the elements of an array with replacement N times, compute the mean of each sample, \r\n",
    "# and then compute percentiles over the means)\r\n",
    "X = np.random.randn(100) # random 1D array\r\n",
    "N = 1000 # number of bootstrap samples\r\n",
    "idx = np.random.randint(0, X.size, (N, X.size))\r\n",
    "means = X[idx].mean(axis=1)\r\n",
    "confint = np.percentile(means, [2.5, 97.5])\r\n",
    "print(confint)"
   ],
   "outputs": [
    {
     "output_type": "stream",
     "name": "stdout",
     "text": [
      "[-0.07687968  0.32181195]\n"
     ]
    }
   ],
   "metadata": {}
  }
 ],
 "metadata": {
  "orig_nbformat": 4,
  "language_info": {
   "name": "python",
   "version": "3.8.3",
   "mimetype": "text/x-python",
   "codemirror_mode": {
    "name": "ipython",
    "version": 3
   },
   "pygments_lexer": "ipython3",
   "nbconvert_exporter": "python",
   "file_extension": ".py"
  },
  "kernelspec": {
   "name": "python3",
   "display_name": "Python 3.8.3 64-bit ('base': conda)"
  },
  "interpreter": {
   "hash": "9f54772c6dbcef3e2bbb3b58a12d0ea93cc39e8d73ca8d1792b5e194a83990cc"
  }
 },
 "nbformat": 4,
 "nbformat_minor": 2
}